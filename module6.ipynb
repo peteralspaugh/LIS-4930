{
 "cells": [
  {
   "cell_type": "code",
   "execution_count": 27,
   "id": "685bda1e-c80e-45ea-b2b3-4fe26795eec1",
   "metadata": {},
   "outputs": [
    {
     "name": "stdin",
     "output_type": "stream",
     "text": [
      "What store did you go to?\n",
      " London Pride British Shop Tampa\n",
      "\n",
      " How many days ago?\n",
      " 0\n",
      "\n",
      " How many hours ago?\n",
      " 20\n",
      "\n",
      " How many minutes ago?\n",
      " 15\n",
      "\n",
      " How many seconds ago?\n",
      " 0\n",
      "\n",
      " What did you buy?\n",
      " Tea & Crumpets\n",
      "\n",
      " How much did it cost?\n",
      " 10.99\n",
      "\n",
      " Payment method? (credit, debit, cash)\n",
      " credit\n"
     ]
    },
    {
     "name": "stdout",
     "output_type": "stream",
     "text": [
      "\n",
      "\n",
      "\n",
      "Tea & Crumpets\t10.99\n"
     ]
    }
   ],
   "source": [
    "import sys\n",
    "from datetime import datetime  \n",
    "from datetime import timedelta  \n",
    "\n",
    "#user inputs/prompts\n",
    "store = str(input(\"What store did you go to?\\n\"))\n",
    "deltadays = float(input(\"\\n How many days ago?\\n\"))\n",
    "deltahours = float(input(\"\\n How many hours ago?\\n\"))\n",
    "deltamins = float(input(\"\\n How many minutes ago?\\n\"))\n",
    "deltasec = float(input(\"\\n How many seconds ago?\\n\"))\n",
    "item = input(\"\\n What did you buy?\\n\")\n",
    "cost = input(\"\\n How much did it cost?\\n\")\n",
    "payment = input(\"\\n Payment method? (credit, debit, cash)\\n\")\n",
    "print(\"\\n\\n\")\n",
    "\n",
    "#construct actual time of purchase from user inputs\n",
    "dateinput = datetime.now() - timedelta(days=deltadays)\n",
    "timeinput = datetime.now() - timedelta(hours=deltahours, minutes=deltamins, seconds=deltasec)\n",
    "\n",
    "#format like line from file\n",
    "line = \"{0}\\t{1}\\t{2}\\t{3}\\t{4}\\t{5}\".format(\n",
    "    dateinput.strftime('%Y-%m-%d'),\n",
    "    timeinput.strftime('%H:%M:%S'),\n",
    "    store,\n",
    "    item,\n",
    "    cost,\n",
    "    payment\n",
    ")\n",
    "\n",
    "#clean data as in instructions\n",
    "data = line.strip().split(\"\\t\")\n",
    "if len(data) == 6:\n",
    "    date, time, store, item, cost, payment = data\n",
    "    print(\"{0}\\t{1}\".format(item, cost))\n"
   ]
  },
  {
   "cell_type": "code",
   "execution_count": 28,
   "id": "525ca753-f629-4fb3-a9c7-ba52847d3d89",
   "metadata": {},
   "outputs": [
    {
     "name": "stdout",
     "output_type": "stream",
     "text": [
      "2027-06-29 11:42:40.090388\n"
     ]
    }
   ],
   "source": [
    "print(datetime.now() + timedelta(days=730,seconds=-60)) "
   ]
  },
  {
   "cell_type": "code",
   "execution_count": 33,
   "id": "f0a93206-d4e7-42d1-9992-194bdd0a3286",
   "metadata": {},
   "outputs": [
    {
     "name": "stdout",
     "output_type": "stream",
     "text": [
      "days= 100 seconds= 36780\n"
     ]
    }
   ],
   "source": [
    "d=timedelta(days=100, hours=10, minutes=13)\n",
    "print(\"days=\",d.days,\"seconds=\",d.seconds)"
   ]
  },
  {
   "cell_type": "code",
   "execution_count": 50,
   "id": "e8ba6693-f5c0-4819-82b5-e244bee822b5",
   "metadata": {},
   "outputs": [
    {
     "name": "stdin",
     "output_type": "stream",
     "text": [
      "How many feet?\n",
      " 5\n",
      "How many inches? (may be decimal)\n",
      " 10\n"
     ]
    },
    {
     "name": "stdout",
     "output_type": "stream",
     "text": [
      "('2025-06-29', '5 ft 10.0 in ')\n"
     ]
    }
   ],
   "source": [
    "def heightlogger():\n",
    "    feet=int(input(\"How many feet?\\n\"))\n",
    "    inches=int(input(\"How many inches? (may be decimal)\\n\"))\n",
    "    return (datetime.now().strftime('%Y-%m-%d'),str(int(feet))+\" ft \"+str(float(inches))+\" in \")\n",
    "\n",
    "print(heightlogger())"
   ]
  },
  {
   "cell_type": "code",
   "execution_count": null,
   "id": "33f616c0-b69f-4a15-bd90-6b712d1ae1bb",
   "metadata": {},
   "outputs": [],
   "source": []
  }
 ],
 "metadata": {
  "kernelspec": {
   "display_name": "Python 3 (ipykernel)",
   "language": "python",
   "name": "python3"
  },
  "language_info": {
   "codemirror_mode": {
    "name": "ipython",
    "version": 3
   },
   "file_extension": ".py",
   "mimetype": "text/x-python",
   "name": "python",
   "nbconvert_exporter": "python",
   "pygments_lexer": "ipython3",
   "version": "3.10.12"
  }
 },
 "nbformat": 4,
 "nbformat_minor": 5
}
